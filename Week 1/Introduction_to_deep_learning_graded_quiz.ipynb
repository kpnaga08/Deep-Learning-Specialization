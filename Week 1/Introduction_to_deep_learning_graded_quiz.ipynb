{
 "cells": [
  {
   "cell_type": "markdown",
   "metadata": {},
   "source": [
    "# Question 1\n",
    "\n",
    "Which of the following are some aspects in which AI has transformed business?\n",
    "\n",
    "- Eliminating the need for health care services \n",
    "- AI has not been able to transform businesses\n",
    "- Web searching and advertisement\n",
    "- Creating an AI-powered society\n",
    "\n",
    "**<font color='magenta'>Answer: Web searching and advertisement.</font>** \n",
    "\n",
    "**<font color='magenta'>Explanation: AI has helped to make a fit between services or results and consumers or queries.</font>**"
   ]
  },
  {
   "cell_type": "markdown",
   "metadata": {},
   "source": [
    "# Question 2\n",
    "\n",
    "Which of the following play a major role to achieve a very high level of performance with Deep Learning algorithms?\n",
    "\n",
    "- Deep learning has resulted in significant improvements in important applications such as online advertising, speech recognition, and image recognition.\n",
    "\n",
    "- Better designed features to use.\n",
    "**<font color='Red'>(This should not be selected. One main difference between \"classical\" machine learning algorithms and deep learning algorithms is that Deep Learning models \"figure out\" the best features using the hidden layers.)</font>** \n",
    "\n",
    "- Smaller models.\n",
    "\n",
    "- Large models.\n",
    "\n",
    "- Large amounts of data.\n",
    "\n",
    "\n",
    "**<font color='magenta'>Answer: (1) Deep learning has resulted in significant improvements in important applications such as online advertising, speech recognition, and image recognition (2) Large models (3) Large amounts of data </font>** \n",
    "\n",
    "**<font color='magenta'>Explanation: (1) (2) In most cases it is necessary for a very large neural network to make use of all the available data (3) Some of the most successful Deep Learning algorithms make use of very large datasets for training. </font>**"
   ]
  },
  {
   "cell_type": "markdown",
   "metadata": {},
   "source": [
    "# Question 3\n",
    "\n",
    "Recall this diagram of iterating over different ML ideas. Which of the statements below are true? (Check all that apply.)\n",
    "\n",
    "<figure>\n",
    "<img src=\"q1_idl.PNG\"   style=\"width:600px;height:200px;\">\n",
    "</figure> \n",
    "\n",
    "- It is faster to train on a big dataset than a small dataset.\n",
    "\n",
    "- Recent progress in deep learning algorithms has allowed us to train good models faster (even without changing the CPU/GPU hardware).\n",
    "\n",
    "- Faster computation can help speed up how long a team takes to iterate to a good idea.\n",
    "\n",
    "- Being able to try out ideas quickly allows deep learning engineers to iterate more quickly.\n",
    "\n",
    "\n",
    "**<font color='magenta'>Answer: (1) Recent progress in deep learning algorithms has allowed us to train good models faster (even without changing the CPU/GPU hardware) (2) Faster computation can help speed up how long a team takes to iterate to a good idea (3) Being able to try out ideas quickly allows deep learning engineers to iterate more quickly</font>** \n",
    "\n"
   ]
  },
  {
   "cell_type": "markdown",
   "metadata": {},
   "source": [
    "# Question 4\n",
    "\n",
    "When building a neural network to predict housing price from features like size, the number of bedrooms, zip code, and wealth, it is necessary to come up with other features in between input and output like family size and school quality. True/False?\n",
    "\n",
    "- False\n",
    "- True\n",
    "\n",
    "**<font color='magenta'>Answer: False.</font>** "
   ]
  },
  {
   "cell_type": "markdown",
   "metadata": {},
   "source": [
    "# Question 5\n",
    "\n",
    "Which of the following depicts a Sigmoid activation function?\n",
    "\n",
    "\n",
    "**<font color='magenta'>Answer: False.</font>** "
   ]
  },
  {
   "cell_type": "markdown",
   "metadata": {},
   "source": [
    "# Question 6\n",
    "\n",
    "Images for cat recognition is an example of “structured” data, because it is represented as a structured array in a computer. True/False?\n",
    "\n",
    "- False\n",
    "- True\n",
    "\n",
    "**<font color='magenta'>Answer: False. Images for cat recognition are examples of “unstructured” data.</font>** "
   ]
  },
  {
   "cell_type": "markdown",
   "metadata": {},
   "source": [
    "# Question 7\n",
    "\n",
    "A demographic dataset with statistics on different cities' population, GDP per capita, and economic growth is an example of “unstructured” data because it contains data coming from different sources. True/False?\n",
    "\n",
    "- False\n",
    "- True\n",
    "\n",
    "**<font color='magenta'>Answer: False. A demographic dataset with statistics on different cities' population, GDP per capita, and economic growth is an example of “structured” data in contrast to image, audio or text datasets.</font>** "
   ]
  },
  {
   "cell_type": "markdown",
   "metadata": {},
   "source": [
    "# Question 8\n",
    "\n",
    "RNNs (Recurrent Neural Networks) are good for data with a temporal component. True/False?\n",
    "\n",
    "- False\n",
    "- True\n",
    "\n",
    "**<font color='magenta'>Answer: True. RNN are designed to work with sequences; the elements of a sequence can be sorted by a temporal component.</font>** "
   ]
  },
  {
   "cell_type": "markdown",
   "metadata": {},
   "source": [
    "# Question 9\n",
    "\n",
    "In this diagram which we hand-drew in the lecture, what do the horizontal axis (x-axis) and vertical axis (y-axis) represent?\n",
    "\n",
    "<figure>\n",
    "<img src=\"q9_idl.PNG\"   style=\"width:600px;height:200px;\">\n",
    "</figure> \n",
    "\n",
    "* x-axis is the amount of data\n",
    "* y-axis is the size of the model you train.\n",
    "\n",
    "\n",
    "\n",
    "* x-axis is the performance of the algorithm\n",
    "* y-axis (vertical axis) is the amount of data.\n",
    "\n",
    "\n",
    "\n",
    "* x-axis is the input to the algorithm\n",
    "* y-axis is outputs.\n",
    "\n",
    "\n",
    "\n",
    "* x-axis is the amount of data\n",
    "* y-axis (vertical axis) is the performance of the algorithm.\n",
    "\n",
    "**<font color='magenta'>Answer: (1) x-axis is the amount of data (2) y-axis (vertical axis) is the performance of the algorithm.</font>** "
   ]
  },
  {
   "cell_type": "markdown",
   "metadata": {},
   "source": [
    "# Question 10\n",
    "\n",
    "Assuming the trends described in the previous question's figure are accurate (and hoping you got the axis labels right), which of the following are true? (Check all that apply.)\n",
    "\n",
    "- Increasing the size of a neural network generally does not hurt an algorithm’s performance, and it may help significantly.\n",
    "\n",
    "- Decreasing the training set size generally does not hurt an algorithm’s performance, and it may help significantly.\n",
    "\n",
    "- Increasing the training set size generally does not hurt an algorithm’s performance, and it may help significantly.\n",
    "\n",
    "- Decreasing the size of a neural network generally does not hurt an algorithm’s performance, and it may help significantly.\n",
    "\n",
    "**<font color='magenta'>Answer: (1) Increasing the size of a neural network generally does not hurt an algorithm’s performance, and it may help significantly. (2) Increasing the training set size generally does not hurt an algorithm’s performance, and it may help significantly.</font>** \n"
   ]
  },
  {
   "cell_type": "markdown",
   "metadata": {},
   "source": [
    "# Question 11\n",
    "\n",
    "<figure>\n",
    "<img src=\"Gq_idl.PNG\"   style=\"width:600px;height:200px;\">\n",
    "</figure> \n",
    "\n",
    "Suppose the information given in the diagram is accurate. We can deduce that when using large training sets, for a model to keep improving as the amount of data for training grows, the size of the neural network must grow. True/False?\n",
    "\n",
    "- True\n",
    "- False\n",
    "\n",
    "**<font color='magenta'>Answer: True. The graph shows that after a certain amount of data is fed to a NN it stops increasing its performance. To increase the performance it is necessary to use a larger model.</font>** "
   ]
  },
  {
   "cell_type": "markdown",
   "metadata": {},
   "source": [
    "# Question 12\n",
    "\n",
    "Assuming the trends described in the figure are accurate. The performance of a NN depends only on the size of the NN. True/False?\n",
    "\n",
    "<figure>\n",
    "<img src=\"Gq_idl.PNG\"   style=\"width:600px;height:200px;\">\n",
    "</figure> \n",
    "\n",
    "- True\n",
    "- False\n",
    "\n",
    "**<font color='magenta'>Answer: False. According to the trends in the figure above, It also depends on the amount of data.</font>** "
   ]
  },
  {
   "cell_type": "markdown",
   "metadata": {},
   "source": [
    "# Question 13\n",
    "\n",
    "Features of animals, such as weight, height, and color, are used for classification between cats, dogs, or others. This is an example of \"structured\" data, because they are represented as arrays in a computer. True/False?\n",
    "\n",
    "- False\n",
    "No. The data can be represented by columns of data. This is an example of structured data, unlike images of the animal.\n",
    "- True\n",
    "Yes. The data can be represented by columns of data. This is an example of structured data, unlike images of the animal.\n",
    "\n",
    "**<font color='magenta'>Answer: True\n",
    "Yes. The data can be represented by columns of data. This is an example of structured data, unlike images of the animal.</font>** \n"
   ]
  },
  {
   "cell_type": "markdown",
   "metadata": {},
   "source": [
    "# Question 14\n",
    "\n",
    "Which of these are reasons for Deep Learning recently taking off? (Check the three options that apply.)\n",
    "\n",
    "- We have access to a lot more computational power.\n",
    "- Neural Networks are a brand new field.\n",
    "- We have access to a lot more data.\n",
    "- Deep learning has resulted in significant improvements in important applications such as online advertising, speech recognition, and image recognition.\n",
    "\n",
    "**<font color='magenta'>Answer: (1) We have access to a lot more computational power (2) We have access to a lot more data (3) Deep learning has resulted in significant improvements in important applications such as online advertising, speech recognition, and image recognition. </font>** \n",
    "\n",
    "**<font color='blue'>Explanation: (1) The development of hardware, perhaps especially GPU computing, has significantly improved deep learning algorithms' performance. (2) The digitalization of our society has played a huge role in this  </font>** "
   ]
  },
  {
   "cell_type": "markdown",
   "metadata": {},
   "source": [
    "# Question 15\n",
    "\n",
    "A dataset is composed of age and weight data for several people. This dataset is an example of \"structured\" data because it is represented as an array in a computer. True/False?\n",
    "\n",
    "- True\n",
    "- False\n",
    "\n",
    "**<font color='magenta'>Answer: True. The sequences can be represented as arrays in a computer. This is an example of structured data.</font>** "
   ]
  }
 ],
 "metadata": {
  "kernelspec": {
   "display_name": "Python 3.10.8 64-bit",
   "language": "python",
   "name": "python3"
  },
  "language_info": {
   "name": "python",
   "version": "3.10.8"
  },
  "orig_nbformat": 4,
  "vscode": {
   "interpreter": {
    "hash": "aee8b7b246df8f9039afb4144a1f6fd8d2ca17a180786b69acc140d282b71a49"
   }
  }
 },
 "nbformat": 4,
 "nbformat_minor": 2
}
